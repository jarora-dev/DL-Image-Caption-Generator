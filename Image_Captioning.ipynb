{
  "nbformat": 4,
  "nbformat_minor": 0,
  "metadata": {
    "colab": {
      "provenance": [],
      "authorship_tag": "ABX9TyMJpO6/nkp7Vf3grWzxU6IT",
      "include_colab_link": true
    },
    "kernelspec": {
      "name": "python3",
      "display_name": "Python 3"
    },
    "language_info": {
      "name": "python"
    }
  },
  "cells": [
    {
      "cell_type": "markdown",
      "metadata": {
        "id": "view-in-github",
        "colab_type": "text"
      },
      "source": [
        "<a href=\"https://colab.research.google.com/github/jarora-dev/DL-Image-Caption-Generator/blob/main/Image_Captioning.ipynb\" target=\"_parent\"><img src=\"https://colab.research.google.com/assets/colab-badge.svg\" alt=\"Open In Colab\"/></a>"
      ]
    },
    {
      "cell_type": "markdown",
      "source": [
        "# Image Caption Generator using CNN and LSTM"
      ],
      "metadata": {
        "id": "2A7iavuGUsQc"
      }
    },
    {
      "cell_type": "code",
      "source": [],
      "metadata": {
        "id": "OwxhXkPEUwP5"
      },
      "execution_count": null,
      "outputs": []
    }
  ]
}